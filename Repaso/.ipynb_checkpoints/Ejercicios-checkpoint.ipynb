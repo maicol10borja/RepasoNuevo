{
 "cells": [
  {
   "cell_type": "markdown",
   "id": "c804d596-50d5-4f10-ba63-6d31cdec3988",
   "metadata": {},
   "source": [
    "<img src=\"img/Recurso-26.png\" width=\"200\">\n",
    "\n",
    "## Michael Borja\n"
   ]
  },
  {
   "cell_type": "markdown",
   "id": "fd9d9d10-993e-4e54-a14f-cdafbc4a98d1",
   "metadata": {},
   "source": [
    "1. Escribe un programa que muestre por pantalla la concatenación de un número y una cadena de caracteres. Para obtener esta concatenación puedes usar uno de los operadores explicados en este tema. Ejemplo: dado el número 3 y la cadena 'abc', el programa mostrará la cadena '3abc'."
   ]
  },
  {
   "cell_type": "code",
   "execution_count": 1,
   "id": "009b40ab-791c-48d1-b222-25b2eadfbdd3",
   "metadata": {},
   "outputs": [
    {
     "name": "stdout",
     "output_type": "stream",
     "text": [
      "3abc\n"
     ]
    }
   ],
   "source": [
    "x = 3          # Asigna el número 3 a la variable x\n",
    "y = 'abc'      # Asigna el texto 'abc' a la variable y\n",
    "\n",
    "print(str(x) + y)   # Convierte x a texto y lo une con y, imprime: 3abc"
   ]
  },
  {
   "cell_type": "markdown",
   "id": "d207fdd9-b340-47af-960c-478344a7e4a2",
   "metadata": {},
   "source": [
    "2. Escribe un programa que muestre por pantalla un valor booleano que indique si un número entero *N* está contenido en un intervalo semiabierto *[a,b)*, el cual establece una cota inferior *a* (inclusive) y una cota superior *b* (exclusive) para *N*."
   ]
  },
  {
   "cell_type": "code",
   "execution_count": 2,
   "id": "a9a15b58-1ffa-46ac-97d9-e76a938952fa",
   "metadata": {},
   "outputs": [
    {
     "name": "stdout",
     "output_type": "stream",
     "text": [
      "True\n"
     ]
    }
   ],
   "source": [
    "N = 5        # Número principal\n",
    "a = 0        # Límite menor\n",
    "b = 6        # Límite mayor\n",
    "\n",
    "# print(a <= N)     # ¿N es mayor o igual que a?\n",
    "# print(N < b)      # ¿N es menor que b?\n",
    "\n",
    "print(a <= N and N < b)  # ¿N está entre a y b?"
   ]
  },
  {
   "cell_type": "markdown",
   "id": "2b938d70-c495-40e9-9f30-17d7c4bcc6c1",
   "metadata": {},
   "source": [
    "3. Escribe un programa que, dado dos strings *S1* y *S2* y dos números enteros *N1* y *N2*, determine si el substring que en *S1* se extiende desde la posición *N1* a la *N2* (ambos inclusive) está contenido en *S2*."
   ]
  },
  {
   "cell_type": "code",
   "execution_count": 3,
   "id": "658e7d90-ea0d-455e-9eaf-2e3b04959eba",
   "metadata": {},
   "outputs": [
    {
     "name": "stdout",
     "output_type": "stream",
     "text": [
      "True\n"
     ]
    }
   ],
   "source": [
    "S1 = 'Java'           # Primer texto\n",
    "S2 = 'JavaScript'     # Segundo texto\n",
    "N1 = 0                # Posición inicial\n",
    "N2 = 3                # Posición final\n",
    "\n",
    "print(S1[N1:N2+1] in S2)  # ¿La parte de S1 entre N1 y N2 está en S2?"
   ]
  },
  {
   "cell_type": "markdown",
   "id": "1472a9bb-9559-4205-bf18-bb9107cdf95c",
   "metadata": {},
   "source": [
    "4. Dada una *lista* con elementos duplicados, escribir un programa que muestre una nueva *lista* con el mismo contenido que la primera pero sin elementos duplicados."
   ]
  },
  {
   "cell_type": "code",
   "execution_count": 4,
   "id": "84af2def-bd55-4dc4-a83c-ad15822c002e",
   "metadata": {},
   "outputs": [
    {
     "name": "stdout",
     "output_type": "stream",
     "text": [
      "[1, 2, 3, 4, 5]\n"
     ]
    }
   ],
   "source": [
    "L = [1,2,2,3,3,2,3,1,4,5,4,5,5]  # Lista con varios números repetidos\n",
    "\n",
    "print(list(set(L)))  # Convierte a conjunto (quita repetidos) y luego a lista"
   ]
  },
  {
   "cell_type": "markdown",
   "id": "80b0bac7-1993-41de-8bf8-fd98d130d9ab",
   "metadata": {},
   "source": [
    "5. Escribe un programa que, dada una *lista* de strings *L*, un string *s* perteneciente a *L* y un string *t*, reemplace *s* por *t* en *L*. El programa debe mostrar la lista resultante por pantalla."
   ]
  },
  {
   "cell_type": "code",
   "execution_count": 5,
   "id": "e6d9a351-2dd6-4e2d-8afe-084fe3e05442",
   "metadata": {},
   "outputs": [
    {
     "name": "stdout",
     "output_type": "stream",
     "text": [
      "['Python', 'JavaScript', 'C++', 'Kotlin']\n"
     ]
    }
   ],
   "source": [
    "L = [\"Python\", \"Java\", \"C++\", \"Kotlin\"]  # Lista de lenguajes\n",
    "s = \"Java\"            # Palabra a reemplazar\n",
    "t = \"JavaScript\"      # Nuevo valor\n",
    "\n",
    "indice = L.index(s)   # Busca en qué posición está 'Java'\n",
    "L[indice] = t         # Reemplaza 'Java' por 'JavaScript'\n",
    "\n",
    "print(L)              # Muestra la nueva lista"
   ]
  },
  {
   "cell_type": "markdown",
   "id": "00f3efdc-5200-46cb-842c-e33ea4df7175",
   "metadata": {},
   "source": [
    "6. Escribe un programa que defina una *tupla* con elementos numéricos, reemplace el valor del último por un valor diferente y muestre la *tupla* por pantalla. Recuerda que las *tuplas* son inmutables. Tendrás que usar objetos intermedios."
   ]
  },
  {
   "cell_type": "code",
   "execution_count": 6,
   "id": "560926b1-d0a6-4666-8c3c-0a1372de35ed",
   "metadata": {},
   "outputs": [
    {
     "name": "stdout",
     "output_type": "stream",
     "text": [
      "(1, 2, 3, 5)\n"
     ]
    }
   ],
   "source": [
    "tupla = (1, 2, 3, 4)     # Tupla original\n",
    "\n",
    "lista = list(tupla)      # Convierte la tupla a lista (porque las tuplas no se pueden cambiar)\n",
    "lista[-1] = 5            # Cambia el último valor de la lista\n",
    "\n",
    "print(tuple(lista))      # Convierte la lista de nuevo a tupla y la muestra"
   ]
  },
  {
   "cell_type": "markdown",
   "id": "c41b5029-07ea-486f-aacd-b95be17a319e",
   "metadata": {},
   "source": [
    "7. Dada la lista [1,2,3,4,5,6,7,8] escribe un programa que, a partir de esta lista, obtenga la lista [8,6,4,2] y la muestre por pantalla."
   ]
  },
  {
   "cell_type": "code",
   "execution_count": 7,
   "id": "5f7653b4-3594-4f64-95d2-426eee6468d9",
   "metadata": {},
   "outputs": [
    {
     "name": "stdout",
     "output_type": "stream",
     "text": [
      "[8, 6, 4, 2]\n"
     ]
    }
   ],
   "source": [
    "lista = [1,2,3,4,5,6,7,8]    # Lista original\n",
    "\n",
    "print(lista[-1::-2])         # Empieza desde el final y toma de 2 en 2 hacia atrás"
   ]
  },
  {
   "cell_type": "markdown",
   "id": "fe19d812-3f26-4649-b68f-d45ecebd2037",
   "metadata": {},
   "source": [
    "\n",
    "8. Escribe un programa que, dada una tupla y un índice válido *i*, elimine el elemento de la tupla que se encuentra en la posición *i*. Para este ejercicio sólo puedes usar objetos de tipo tupla. No puedes convetir la *tupla* a una *lista*, por ejemplo."
   ]
  },
  {
   "cell_type": "code",
   "execution_count": 8,
   "id": "6d5d3540-3ba5-46ad-b0b1-3d3bf2a660c4",
   "metadata": {},
   "outputs": [
    {
     "name": "stdout",
     "output_type": "stream",
     "text": [
      "('a', 'b', 'c', 'e', 'f')\n"
     ]
    }
   ],
   "source": [
    "tupla = ('a', 'b', 'c', 'd', 'e', 'f')  # Tupla con 6 letras\n",
    "i = 3                                   # Queremos eliminar el elemento en la posición 3 ('d')\n",
    "\n",
    "print(tupla[:i] + tupla[i+1:])          # Imprime la tupla sin el elemento en i"
   ]
  },
  {
   "cell_type": "markdown",
   "id": "44e288eb-2a04-4d77-aefb-b5d8653c25cc",
   "metadata": {},
   "source": [
    "9. Escribe un programa que obtenga la mediana de una *lista* de números. Recuerda que la mediana *M* de una lista de números *L* es el número que cumple la siguiente propiedad: la mitad de los números de *L* son superiores a *M* y la otra mitad son inferiores. Cuando el número de elementos de *L* es par, se puede considerar que hay dos medianas. No obstante, en este ejercicio consideraremos que únicamente existe una mediana."
   ]
  },
  {
   "cell_type": "code",
   "execution_count": 9,
   "id": "6cf656af-4515-4f39-b98e-4381b7819889",
   "metadata": {},
   "outputs": [
    {
     "name": "stdout",
     "output_type": "stream",
     "text": [
      "[1, 3, 5.5, 9, 15, 19, 21]\n",
      "9\n"
     ]
    }
   ],
   "source": [
    "L = [21, 9, 1, 5.5, 19, 3, 15]  # Lista de números sin ordenar\n",
    "\n",
    "L.sort()             # Ordena la lista de menor a mayor\n",
    "print(L)             # Muestra la lista ordenada\n",
    "\n",
    "mediana = L[len(L)//2]  # Toma el valor del medio (posición mitad de la lista)\n",
    "\n",
    "print(mediana)       # Muestra la mediana"
   ]
  },
  {
   "cell_type": "markdown",
   "id": "699b9ecd-7cfb-4626-a780-c65b6e77fb4d",
   "metadata": {},
   "source": [
    "GIT\n",
    "\n",
    "https://github.com/maicol10borja/Repaso.git"
   ]
  }
 ],
 "metadata": {
  "kernelspec": {
   "display_name": "Python 3 (ipykernel)",
   "language": "python",
   "name": "python3"
  },
  "language_info": {
   "codemirror_mode": {
    "name": "ipython",
    "version": 3
   },
   "file_extension": ".py",
   "mimetype": "text/x-python",
   "name": "python",
   "nbconvert_exporter": "python",
   "pygments_lexer": "ipython3",
   "version": "3.13.5"
  }
 },
 "nbformat": 4,
 "nbformat_minor": 5
}
