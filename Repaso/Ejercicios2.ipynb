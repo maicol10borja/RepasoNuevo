{
 "cells": [
  {
   "cell_type": "markdown",
   "id": "304368e6-3926-4af5-b7a2-d42abad446f9",
   "metadata": {},
   "source": [
    "<img src=\"img/Recurso-26.png\" width=\"200\">\n",
    "\n",
    "## Michael Borja\n"
   ]
  },
  {
   "cell_type": "markdown",
   "id": "026ba39e-daa3-4553-91ec-c7f1fe23d496",
   "metadata": {},
   "source": [
    "1. Escribe un programa que calcule la suma de todos los elementos de una *lista* dada. La lista sólo puede contener elementos numéricos.\n"
   ]
  },
  {
   "cell_type": "code",
   "execution_count": 4,
   "id": "5e84979a-98fa-4d03-b6b6-408116a712fe",
   "metadata": {},
   "outputs": [
    {
     "name": "stdout",
     "output_type": "stream",
     "text": [
      "La suma total es: 11.2\n"
     ]
    }
   ],
   "source": [
    "lista = [1, 2.5, 3, 4.7]\n",
    "\n",
    "# sumamos todos los nnmeros de la lista\n",
    "resultado = sum(lista)\n",
    "\n",
    "print(\"La suma total es:\", resultado)\n"
   ]
  },
  {
   "cell_type": "raw",
   "id": "b82b86cc-92d6-4143-a5ae-b4f87f7578aa",
   "metadata": {},
   "source": [
    "2. Dada una lista con elementos duplicados, escribir un programa que muestre una nueva lista con el mismo contenido que la primera pero sin elementos duplicados. Para este ejercicio, no puedes hacer uso de objetos de tipo 'Set'. "
   ]
  },
  {
   "cell_type": "code",
   "execution_count": 5,
   "id": "def16b01-a4a7-46e4-a4a3-9aaf355e0f30",
   "metadata": {},
   "outputs": [
    {
     "name": "stdout",
     "output_type": "stream",
     "text": [
      "Lista sin duplicados: [1, 2, 3, 4, 5]\n"
     ]
    }
   ],
   "source": [
    "lista = [1, 2, 2, 3, 4, 4, 5]\n",
    "nueva_lista = []\n",
    "\n",
    "for elem in lista:  #para cada elemento\n",
    "    if elem not in nueva_lista:  # if si esta dentro, not in  no esta dentro\n",
    "        nueva_lista.append(elem)  # app agregar \n",
    "\n",
    "print(\"Lista sin duplicados:\", nueva_lista)\n"
   ]
  },
  {
   "cell_type": "markdown",
   "id": "aa3052a1-3b70-46c2-9717-66b9a053d7a0",
   "metadata": {},
   "source": [
    "3. Escribe un programa que construya un diccionario que contenga un número (entre 1 y *n*) de elementos de esta forma: (x, x*x). Ejemplo: para n = 5, el diccionario resultante sería {1: 1, 2: 4, 3: 9, 4: 16, 5: 25}"
   ]
  },
  {
   "cell_type": "code",
   "execution_count": 8,
   "id": "d0fea6c5-1cda-4a7d-ab84-5987837bb4bb",
   "metadata": {},
   "outputs": [
    {
     "name": "stdout",
     "output_type": "stream",
     "text": [
      "Diccionario: {1: 1, 2: 4, 3: 9, 4: 16, 5: 25}\n"
     ]
    }
   ],
   "source": [
    "n = 5\n",
    "dic = {}\n",
    "\n",
    "for x in range(1, n+1):  # for repetir para cada número en 1 a n\n",
    "    dic[x] = x * x       # asignar cuadrado al diccionario\n",
    "\n",
    "print(\"Diccionario:\", dic)\n"
   ]
  },
  {
   "cell_type": "markdown",
   "id": "e4ebffea-a596-4989-bc45-d66495ead701",
   "metadata": {},
   "source": [
    "4. Escribe un programa que, dada una lista de palabras, compruebe si alguna empieza por 'a' y tiene más de 9 caracteres. Si dicha palabra existe, el programa deberá terminar en el momento exacto de encontrarla. El programa también debe mostrar un mensaje apropiado por pantalla que indique el éxito o el fracaso de la búsqueda. En caso de éxito, también se mostrará por pantalla la palabra encontrada."
   ]
  },
  {
   "cell_type": "code",
   "execution_count": 7,
   "id": "e82208bd-43d1-4a13-8a39-ab673a7c8971",
   "metadata": {},
   "outputs": [
    {
     "name": "stdout",
     "output_type": "stream",
     "text": [
      "Palabra encontrada: alucinante\n"
     ]
    }
   ],
   "source": [
    "palabras = [\"banana\", \"animal\", \"alucinante\", \"computadora\", \"amarillo\"]\n",
    "\n",
    "for p in palabras:  # for toma una por una\n",
    "    if p.startswith('a') and len(p) > 9:  # if  si empieza con a y tiene muchas letras\n",
    "        print(\"Palabra encontrada:\", p)\n",
    "        break  # cuando se encuentra\n",
    "\n",
    "else:  # si no se encontro \n",
    "    print(\"No se encontro palabra que cumpla.\")\n"
   ]
  },
  {
   "cell_type": "markdown",
   "id": "06b07169-8bc1-4cbb-9204-35745d5103e8",
   "metadata": {},
   "source": [
    "5. Dada una lista *L* de números positivos, escribir un programa que muestre otra lista (ordenada) que contenga todo índice *i* que cumpla la siguiente condición: *L[i]* es múltiplo de 3. Por ejemplo, dada la lista *L* = [3,5,13,12,1,9] el programa mostrará la lista [0,3,5] dado que *L[0], L[3] y L[5]* son, respectivamente, 3, 12 y 9, que son los únicos múltiplos de 3 que hay en *L*."
   ]
  },
  {
   "cell_type": "code",
   "execution_count": 9,
   "id": "1660d419-06fd-4472-a4cb-36769c1ff3ad",
   "metadata": {},
   "outputs": [
    {
     "name": "stdout",
     "output_type": "stream",
     "text": [
      "Indices con multiplos de 3: [0, 3, 5]\n"
     ]
    }
   ],
   "source": [
    "L = [3, 5, 13, 12, 1, 9]\n",
    "indices = []\n",
    "\n",
    "for i in range(len(L)):  # for repito , in = dentro de range 0/final\n",
    "    if L[i] % 3 == 0:     # if se dividepor 3\n",
    "        indices.append(i)  # app guarda lugar num i\n",
    "\n",
    "indices.sort()  #ordenar\n",
    "print(\"Indices con multiplos de 3:\", indices)\n"
   ]
  },
  {
   "cell_type": "markdown",
   "id": "bbf3af58-9311-41da-87c0-450754bb9174",
   "metadata": {},
   "source": [
    "6. Dado un diccionario cuyos elementos son pares de tipo string y numérico (es decir, las claves son de tipo 'str' y los valores son de tipo 'int' o 'float'), escribe un programa que muestre por pantalla la clave cuyo valor asociado representa el valor númerico más alto de todo el diccionario. Por ejemplo, para el diccionario {'a': 4.3, 'b': 1, 'c': 7.8, 'd': -5} la respuesta sería 'c', dado que 7.8 es el valor más alto de los números 4.3, 1, 7.8 y -5."
   ]
  },
  {
   "cell_type": "code",
   "execution_count": 12,
   "id": "501947df-4d24-488f-a3ba-293ad237f598",
   "metadata": {},
   "outputs": [
    {
     "name": "stdout",
     "output_type": "stream",
     "text": [
      "La clave con el numero mas grande es: c\n"
     ]
    }
   ],
   "source": [
    "dic = {'a': 4.3, 'b': 1, 'c': 7.8, 'd': -5}\n",
    "mayor = None\n",
    "clave_mayor = None\n",
    "\n",
    "for clave, valor in dic.items():  # if cada clave con valor\n",
    "    if mayor is None or valor > mayor:  # if si es el primero o es mas grande\n",
    "        mayor = valor\n",
    "        clave_mayor = clave\n",
    "\n",
    "print(\"La clave con el numero mas grande es:\", clave_mayor)\n"
   ]
  },
  {
   "cell_type": "markdown",
   "id": "b15f14fd-b2f5-4438-8bed-213f268d89d4",
   "metadata": {},
   "source": [
    "7. Dada la lista *a* = [2, 4, 6, 8] y la lista *b* = [7, 11, 15, 22], escribe un programa que itere las listas *a* y *b* y multiplique cada elemento de *a* que sea mayor que 5 por cada elemento de *b* que sea menor que 14. El programa debe mostrar los resultados por pantalla."
   ]
  },
  {
   "cell_type": "code",
   "execution_count": 11,
   "id": "7875405c-66b1-4129-a7b9-280d6eed1516",
   "metadata": {},
   "outputs": [
    {
     "name": "stdout",
     "output_type": "stream",
     "text": [
      "6 * 7 = 42\n",
      "6 * 11 = 66\n",
      "8 * 7 = 56\n",
      "8 * 11 = 88\n"
     ]
    }
   ],
   "source": [
    "a = [2, 4, 6, 8]\n",
    "b = [7, 11, 15, 22]\n",
    "\n",
    "for x in a:  # for  revisar cada num (L)\n",
    "    if x > 5:  # if si el num es mayor que 5\n",
    "        for y in b:  # for revisamos cada num de B\n",
    "            if y < 14:  \n",
    "                print(x, \"*\", y, \"=\", x * y)  # muestra multiplicación y resultado\n"
   ]
  },
  {
   "cell_type": "markdown",
   "id": "39c982ce-380c-4bac-b530-f2424fed2ed4",
   "metadata": {},
   "source": [
    "8. Escribir un programa que pida un valor numérico X al usuario. Para ello podéis hacer uso de la función predefinida 'input'. El programa deberá mostrar por pantalla el resultado de la división 10/X. En caso de que el usuario introduzca valores no apropiados, el programa deberá gestionar correctamente las excepciones, por ejemplo, mostrando mensajes informativos por pantalla."
   ]
  },
  {
   "cell_type": "code",
   "execution_count": 13,
   "id": "e7c2e7b5-bf17-497a-b1e6-65cf6c2b3351",
   "metadata": {},
   "outputs": [
    {
     "name": "stdin",
     "output_type": "stream",
     "text": [
      "Escribe un número:  8\n"
     ]
    },
    {
     "name": "stdout",
     "output_type": "stream",
     "text": [
      "Resultado: 1.25\n"
     ]
    }
   ],
   "source": [
    "try:\n",
    "    x = float(input(\"Escribe un número: \"))  # pedimos el numero convetimos en decimal\n",
    "    resultado = 10 / x  # dividimos 10 entre el numero\n",
    "except ValueError:  # si no es válido\n",
    "    print(\"Eso no es un número válido.\")\n",
    "except ZeroDivisionError:  # si es cero\n",
    "    print(\"No se puede dividir por cero.\")\n",
    "else:\n",
    "    print(\"Resultado:\", resultado) \n"
   ]
  },
  {
   "cell_type": "markdown",
   "id": "9afcb0c2-61ba-4210-8bf0-42ccdd9cf412",
   "metadata": {},
   "source": [
    "9. Escribir un programa que cree un *diccionario* cualquiera. Posteriormente, el programa pedirá al usuario (a través de la función predefinida 'input') que introduzca una clave del diccionario. Si la clave introducida es correcta (es decir, existe en el diccionario), el programa mostrará por pantalla el valor asociado a dicha clave. En caso de que la clave no exista, el programa gestionará de manera apropiada el error, por ejemplo, mostrando un mensaje informativo al usuario."
   ]
  },
  {
   "cell_type": "code",
   "execution_count": 18,
   "id": "f2c23428-a353-4836-a034-034f2057a09e",
   "metadata": {},
   "outputs": [
    {
     "name": "stdin",
     "output_type": "stream",
     "text": [
      "Escribe una clave:  234\n"
     ]
    },
    {
     "name": "stdout",
     "output_type": "stream",
     "text": [
      "Esa clave no existe.\n"
     ]
    }
   ],
   "source": [
    "dic = {'uno': 1, 'dos': 2, 'tres': 3}  # dic con claves y valores\n",
    "clave = input(\"Escribe una clave: \")  # pedir clave al usuario\n",
    "\n",
    "try:\n",
    "    print(\"Valor:\", dic[clave])  # mostrar valor si existe\n",
    "except KeyError:  # si la clave no está (dicc)\n",
    "    print(\"Esa clave no existe.\")\n"
   ]
  },
  {
   "cell_type": "markdown",
   "id": "ce417e32-6646-428e-b688-e129f8a32cb6",
   "metadata": {},
   "source": [
    "10. Escribe una *list comprehension* que construya una lista con los números *enteros* positivos de una lista de números dada. La lista original puede incluir números de tipo *float*, los cuales deben ser descartados."
   ]
  },
  {
   "cell_type": "code",
   "execution_count": 19,
   "id": "6a8254ce-1867-4ffc-aa94-fd3622484c13",
   "metadata": {},
   "outputs": [
    {
     "name": "stdout",
     "output_type": "stream",
     "text": [
      "Enteros positivos: [1, 3, 6]\n"
     ]
    }
   ],
   "source": [
    "numeros = [1, 2.5, 3, 4.0, -5, 6]  \n",
    "solo_enteros = [x for x in numeros if type(x) == int and x > 0]  \n",
    "# para cada número x\n",
    "#si es entero y mayor que 0\n",
    "#lo podemos poner en lista nueva\n",
    "\n",
    "print(\"Enteros positivos:\", solo_enteros)  # mostramos (LN)\n"
   ]
  },
  {
   "cell_type": "markdown",
   "id": "cd1053a0-4f6c-4340-a626-e9ff3eada1f7",
   "metadata": {},
   "source": [
    "11. Escribe una *set comprehension* que, dada una palabra, construya un conjunto que contenga las vocales de dicha palabra.\n"
   ]
  },
  {
   "cell_type": "code",
   "execution_count": 21,
   "id": "9b645800-8374-4bed-98d3-f6263296f9dd",
   "metadata": {},
   "outputs": [
    {
     "name": "stdout",
     "output_type": "stream",
     "text": [
      "Vocales: {'o', 'a', 'i'}\n"
     ]
    }
   ],
   "source": [
    "palabra = \"programacion\"  #analizar (PA)\n",
    "vocales = {letra for letra in palabra if letra in \"aeiou\"}  \n",
    "# cada letra de la  palabra si es vocal la guardo (SiRe)\n",
    "\n",
    "print(\"Vocales:\", vocales)  # muestro (vocales)\n"
   ]
  },
  {
   "cell_type": "markdown",
   "id": "9a4547b1-b361-481c-88d0-22c4508526d4",
   "metadata": {},
   "source": [
    "12. Escribe una *list comprehension* que construya una lista con todos los números del 0 al 50 que contengan el dígito 3. El resultado será: [3, 13, 23, 30, 31, 32, 33, 34, 35, 36, 37, 38, 39, 43]."
   ]
  },
  {
   "cell_type": "code",
   "execution_count": 22,
   "id": "15de1ec0-d07b-4646-8f82-b602073fe153",
   "metadata": {},
   "outputs": [
    {
     "name": "stdout",
     "output_type": "stream",
     "text": [
      "[3, 13, 23, 30, 31, 32, 33, 34, 35, 36, 37, 38, 39, 43]\n"
     ]
    }
   ],
   "source": [
    "numeros_con_3 = [x for x in range(51) if '3' in str(x)]  \n",
    "# cada numero de 0 a 50\n",
    "#si tiene (3) en forma de texto lo ponen en (LIS)\n",
    "print(numeros_con_3)\n"
   ]
  },
  {
   "cell_type": "markdown",
   "id": "2dd82bf1-35d7-40a2-b410-0cfaa4751737",
   "metadata": {},
   "source": [
    "13. Escribe una *dictionary comprehension* que construya un diccionario que incluya los tamaños de cada palabra en una frase dada. Ejemplo: el resultado para la frase \"Soy un ser humano\" será {'Soy': 3, 'un': 2, 'ser': 3, 'humano': 6}"
   ]
  },
  {
   "cell_type": "code",
   "execution_count": 24,
   "id": "0d197881-a23c-4452-a693-35f14169fdd9",
   "metadata": {},
   "outputs": [
    {
     "name": "stdout",
     "output_type": "stream",
     "text": [
      "{'Soy': 3, 'un': 2, 'ser': 3, 'humano': 6}\n"
     ]
    }
   ],
   "source": [
    "frase = \"Soy un ser humano\"\n",
    "\n",
    "tam_palabras = {palabra: len(palabra) for palabra in frase.split()}\n",
    "# split para separar la frase en palabras\n",
    "# for - in para cada palabra\n",
    "# len() contar letras\n",
    "# len() = clave y valor\n",
    "print(tam_palabras)\n"
   ]
  },
  {
   "cell_type": "markdown",
   "id": "8ad12c04-d279-42e5-ad11-a5fc72b4bb56",
   "metadata": {},
   "source": [
    "14. Escribe una *list comprehension* que construya una lista que incluya todos los números del 1 al 10 en orden. La primera mitad se mostrarán en formato numérico; la segunda mitad en texto. Es decir, el resultado será: [1, 2, 3, 4, 5, 'seis', 'siete', 'ocho', 'nueve', 'diez']."
   ]
  },
  {
   "cell_type": "code",
   "execution_count": 1,
   "id": "ce4590d0-edf0-4352-94d7-fc0e0f0211dc",
   "metadata": {},
   "outputs": [
    {
     "name": "stdout",
     "output_type": "stream",
     "text": [
      "[1, 2, 3, 4, 5, 'seis', 'siete', 'ocho', 'nueve', 'diez']\n"
     ]
    }
   ],
   "source": [
    "numero_a_palabra = {6: \"seis\", 7: \"siete\", 8: \"ocho\", 9: \"nueve\", 10: \"diez\"}  \n",
    "# Diccionario que convierte números del 6 al 10 en palabras\n",
    "\n",
    "resultado = [  \n",
    "    numero if numero <= 5 else numero_a_palabra[numero]  # Si el número es ≤5, lo deja igual; si no, lo cambia por palabra\n",
    "    for numero in range(1, 11)                          # Para números del 1 al 10\n",
    "]\n",
    "\n",
    "print(resultado)  # Muestra la lista resultante"
   ]
  },
  {
   "cell_type": "markdown",
   "id": "74f8bd69-e6a4-4274-a42e-77e8c5c07a3e",
   "metadata": {},
   "source": [
    "GIT\n",
    "https://github.com/maicol10borja/Repaso.git"
   ]
  },
  {
   "cell_type": "code",
   "execution_count": null,
   "id": "78150b35-f5c8-4184-8879-cc2f4c71503e",
   "metadata": {},
   "outputs": [],
   "source": []
  }
 ],
 "metadata": {
  "kernelspec": {
   "display_name": "Python 3 (ipykernel)",
   "language": "python",
   "name": "python3"
  },
  "language_info": {
   "codemirror_mode": {
    "name": "ipython",
    "version": 3
   },
   "file_extension": ".py",
   "mimetype": "text/x-python",
   "name": "python",
   "nbconvert_exporter": "python",
   "pygments_lexer": "ipython3",
   "version": "3.13.5"
  }
 },
 "nbformat": 4,
 "nbformat_minor": 5
}
