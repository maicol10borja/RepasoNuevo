{
 "cells": [
  {
   "cell_type": "markdown",
   "id": "97af56d6-02fa-43e7-9fe2-b3ebcceabfe8",
   "metadata": {},
   "source": [
    "<img src=\"img/Recurso-26.png\" width=\"200\">\n",
    "\n",
    "## Michael Borja"
   ]
  },
  {
   "cell_type": "markdown",
   "id": "743f7317-6586-43dc-a323-ba8649d4b741",
   "metadata": {},
   "source": [
    "1. Escribe una función que reciba una ruta de un fichero de texto y una cadena de caracteres a buscar y determine si la cadena aparece en el fichero."
   ]
  },
  {
   "cell_type": "code",
   "execution_count": 17,
   "id": "2d3a2440-2738-4270-aa55-7800f02ba6aa",
   "metadata": {},
   "outputs": [
    {
     "name": "stdout",
     "output_type": "stream",
     "text": [
      "True\n"
     ]
    }
   ],
   "source": [
    "def buscar_cadena_en_fichero(ruta, cadena):\n",
    "    # Devuelve True si la cadena aparece en el archivo\n",
    "    try:\n",
    "        with open(ruta, 'r', encoding='utf-8') as archivo:\n",
    "            return cadena in archivo.read()\n",
    "    except FileNotFoundError:\n",
    "        print(\"Archivo no encontrado.\")\n",
    "        return False\n",
    "\n",
    "# Llamada a la función usando la ruta con la carpeta\n",
    "print(buscar_cadena_en_fichero(\"res/ejemplo1.txt\", \"Python\"))  # True"
   ]
  },
  {
   "cell_type": "markdown",
   "id": "7de2e143-bc22-46ab-9ed7-a49d9f272d8d",
   "metadata": {},
   "source": [
    "2. Escribe una función que reciba una lista, una ruta destino y un número *n*. La función debe crear un fichero en la ruta especificada. El contenido del fichero serán los primeros *n* elementos de la lista. La función debe controlar de manera apropiada los posibles valores de *n* que estén fuera de rango."
   ]
  },
  {
   "cell_type": "code",
   "execution_count": 16,
   "id": "513ca2a5-5a17-4af2-8a32-df42f9d60aad",
   "metadata": {},
   "outputs": [
    {
     "name": "stdout",
     "output_type": "stream",
     "text": [
      "Archivo 'res/salida.txt' creado con éxito.\n"
     ]
    }
   ],
   "source": [
    "def guardar_elementos_en_fichero(lista, ruta, n):\n",
    "    # Guarda los primeros n elementos en el archivo indicado\n",
    "    if n < 0:\n",
    "        print(\"n no puede ser negativo.\")\n",
    "        return\n",
    "    n = min(n, len(lista))\n",
    "    try:\n",
    "        with open(ruta, 'w', encoding='utf-8') as archivo:\n",
    "            for i in range(n):\n",
    "                archivo.write(str(lista[i]) + '\\n')\n",
    "        print(f\"Archivo '{ruta}' creado con éxito.\")\n",
    "    except Exception as e:\n",
    "        print(\"Error al guardar:\", e)\n",
    "\n",
    "# Guardar en el archivo dentro de la carpeta res\n",
    "guardar_elementos_en_fichero([\"a\", \"b\", \"c\", \"d\"], \"res/salida.txt\", 2)"
   ]
  },
  {
   "cell_type": "markdown",
   "id": "1f3bfe38-951c-43fd-864f-3139f6ed6d86",
   "metadata": {},
   "source": [
    "3. Escribe una función que reciba una ruta de un fichero de texto devuelva un diccionario con la frecuencia de aparición de cada palabra. Ejemplo: un fichero que contenga la frase 'es mejor que venga que que no venga' devolverá el siguiente diccionario: {'es' : 1, 'mejor' : 1, 'que' : 3, 'venga' : 2, 'no' : 1}. Para dividir un string en palabras puedes hacer uso del método *split*."
   ]
  },
  {
   "cell_type": "code",
   "execution_count": 11,
   "id": "dda8831a-afa8-4795-ac19-23cb6153e000",
   "metadata": {},
   "outputs": [
    {
     "name": "stdout",
     "output_type": "stream",
     "text": [
      "{'es': 1, 'mejor': 1, 'que': 3, 'venga': 2, 'no': 1}\n"
     ]
    }
   ],
   "source": [
    "def contar_frecuencia_palabras(ruta):\n",
    "    # Cuenta cuantas veces aparece cada una de las  palabra\n",
    "    frecuencia = {}\n",
    "    try:\n",
    "        with open(ruta, 'r', encoding='utf-8') as archivo:\n",
    "            palabras = archivo.read().lower().split()\n",
    "            for palabra in palabras:\n",
    "                frecuencia[palabra] = frecuencia.get(palabra, 0) + 1\n",
    "        return frecuencia\n",
    "    except FileNotFoundError:\n",
    "        print(\"Archivo no encontrado.\")\n",
    "        return {}\n",
    "\n",
    "# Llamada a la ruta del archivo creado\n",
    "resultado = contar_frecuencia_palabras(\"res/ejemplo2.txt\")\n",
    "print(resultado)"
   ]
  },
  {
   "cell_type": "markdown",
   "id": "bfb853c1-c34e-413c-8854-fa60e1c6b0a7",
   "metadata": {},
   "source": [
    "## REPO GIT\n",
    "\n",
    "https://github.com/maicol10borja/Repaso.git\n"
   ]
  },
  {
   "cell_type": "code",
   "execution_count": null,
   "id": "baed4530-0961-49c4-91af-711667b70c82",
   "metadata": {},
   "outputs": [],
   "source": []
  }
 ],
 "metadata": {
  "kernelspec": {
   "display_name": "Python 3 (ipykernel)",
   "language": "python",
   "name": "python3"
  },
  "language_info": {
   "codemirror_mode": {
    "name": "ipython",
    "version": 3
   },
   "file_extension": ".py",
   "mimetype": "text/x-python",
   "name": "python",
   "nbconvert_exporter": "python",
   "pygments_lexer": "ipython3",
   "version": "3.13.5"
  }
 },
 "nbformat": 4,
 "nbformat_minor": 5
}
