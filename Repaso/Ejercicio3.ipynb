{
 "cells": [
  {
   "cell_type": "markdown",
   "id": "30c32549-d73f-43d5-81ab-f5c9a15e3e47",
   "metadata": {},
   "source": [
    "<img src=\"img/Recurso-26.png\" width=\"200\">\n",
    "\n",
    "## Michael Borja"
   ]
  },
  {
   "cell_type": "markdown",
   "id": "f010e634-4d40-45d7-9692-16a712c59772",
   "metadata": {},
   "source": [
    "1. Escribe una función que reciba como entrada una *lista* con números y devuelva como resultado una *lista* con los cuadrados de los números contenidos en la lista de entrada."
   ]
  },
  {
   "cell_type": "code",
   "execution_count": 11,
   "id": "c5b25ba3-22f0-43c8-ba65-8f06d1e35362",
   "metadata": {},
   "outputs": [
    {
     "name": "stdout",
     "output_type": "stream",
     "text": [
      "Cuadrados de [2, 4, 6] => [4, 16, 36]\n"
     ]
    }
   ],
   "source": [
    "numeros = [2, 4, 6]                 # Creamos una lista con numeros\n",
    "resultado1 = cuadrados(numeros)    # Llamamos a la funcion y guardamos el resultado\n",
    "print(\"Cuadrados de\", numeros, \"=>\", resultado1)  # Imprime la lista original y la lista de cuadrados"
   ]
  },
  {
   "cell_type": "markdown",
   "id": "88c78289-e247-4867-84b0-56ea9b7b3685",
   "metadata": {},
   "source": [
    "2. Escribe una función que reciba números como entrada y devuelva la suma de los mismos. La función debe ser capaz de recibir una cantidad indeterminada de números. La función no debe recibir directamente ningún objeto complejo (lista, conjunto, etc.)."
   ]
  },
  {
   "cell_type": "code",
   "execution_count": 12,
   "id": "89661d52-9aea-4a1e-995c-a6a7db38dc99",
   "metadata": {},
   "outputs": [
    {
     "name": "stdout",
     "output_type": "stream",
     "text": [
      "Suma de (1,5,3,10) => 19\n"
     ]
    }
   ],
   "source": [
    "resultado2 = suma_indeterminada(1, 5, 3, 10)  # Suma 1+5+3+10\n",
    "print(\"Suma de (1,5,3,10) =>\", resultado2)   # Muestra el resultado: 19"
   ]
  },
  {
   "cell_type": "markdown",
   "id": "d05850f4-8410-4c83-ab2c-c637b86d9891",
   "metadata": {},
   "source": [
    "3. Escribe una función que reciba un string como entrada y devuelva el string al revés. Ejemplo: si el string de entrada es 'hola', el resultado será 'aloh'."
   ]
  },
  {
   "cell_type": "code",
   "execution_count": 13,
   "id": "2032481c-4514-4873-904c-fa865ba690cd",
   "metadata": {},
   "outputs": [
    {
     "name": "stdout",
     "output_type": "stream",
     "text": [
      "Invertir python => nohtyp\n"
     ]
    }
   ],
   "source": [
    "texto = \"python\"                  # String original\n",
    "resultado3 = invertir_string(texto)  # Invierte el string\n",
    "print(\"Invertir\", texto, \"=>\", resultado3)  # Imprime resultado: 'nohtyp'"
   ]
  },
  {
   "cell_type": "markdown",
   "id": "e9baf270-4369-4008-baae-900af6f6c3b6",
   "metadata": {},
   "source": [
    "4. Escribe una función *lambda* que, al igual que la función desarrollada en el ejercicio anterior, invierta el string recibido como parámetro. Ejemplo: si el string de entrada es 'hola', el resultado será 'aloh'."
   ]
  },
  {
   "cell_type": "code",
   "execution_count": 22,
   "id": "2c6ca239-1479-433a-a41f-3ad5c1fa64d3",
   "metadata": {},
   "outputs": [
    {
     "name": "stdout",
     "output_type": "stream",
     "text": [
      "Invertir con lambda 'mundo' => odnum\n"
     ]
    }
   ],
   "source": [
    "# Definicion de la funcion lambda\n",
    "invertir_lambda = lambda s: s[::-1]\n",
    "\n",
    "# Uso de la funcion lambda\n",
    "resultado4 = invertir_lambda(\"mundo\")\n",
    "print(\"Invertir con lambda 'mundo' =>\", resultado4)"
   ]
  },
  {
   "cell_type": "markdown",
   "id": "1c7a8f61-af29-4488-8f2a-1c423fa6e217",
   "metadata": {},
   "source": [
    "5. Escribe una función que compruebe si un número se encuentra dentro de un rango específico."
   ]
  },
  {
   "cell_type": "code",
   "execution_count": 23,
   "id": "f5991c71-d8d1-411a-9b24-40a681247922",
   "metadata": {},
   "outputs": [
    {
     "name": "stdout",
     "output_type": "stream",
     "text": [
      "Esta 7 entre 5 y 10? => True\n"
     ]
    }
   ],
   "source": [
    "# Definicion de la funcion\n",
    "def esta_en_rango(numero, inicio, fin):\n",
    "    return inicio <= numero <= fin\n",
    "\n",
    "# Uso de la funcion\n",
    "numero = 7\n",
    "inicio = 5\n",
    "fin = 10\n",
    "resultado5 = esta_en_rango(numero, inicio, fin)\n",
    "print(f\"Esta {numero} entre {inicio} y {fin}? =>\", resultado5)"
   ]
  },
  {
   "cell_type": "markdown",
   "id": "c2a419ec-11d1-43c8-bad4-b18d88dc70fa",
   "metadata": {},
   "source": [
    "6. Escribe una función que reciba un número entero positivo como parámetro y devuelva una lista que contenga los 5 primeros múltiplos de dicho número. Por ejemplo, si la función recibe el número 3, devolverá la lista [3, 6, 9, 12, 15]. Si la función recibe un parámetro incorrecto (por ejemplo, un múmero menor o igual a cero), mostrará un mensaje de error por pantalla y devolverá una lista vacía."
   ]
  },
  {
   "cell_type": "code",
   "execution_count": 24,
   "id": "4e7bb6e5-f278-4427-a76d-662733f748e7",
   "metadata": {},
   "outputs": [
    {
     "name": "stdout",
     "output_type": "stream",
     "text": [
      "5 primeros multiplos de 4 => [4, 8, 12, 16, 20]\n"
     ]
    }
   ],
   "source": [
    "# Definir la funcion\n",
    "def primeros_multiplos(n):\n",
    "    if n <= 0 or not isinstance(n, int):\n",
    "        print(\"Error: debe ser un numero entero positivo.\")\n",
    "        return []\n",
    "    return [n * i for i in range(1, 6)]\n",
    "\n",
    "# Usar la funcion\n",
    "num = 4\n",
    "resultado6 = primeros_multiplos(num)\n",
    "print(f\"5 primeros multiplos de {num} =>\", resultado6)"
   ]
  },
  {
   "cell_type": "markdown",
   "id": "7e6f2888-449b-4a29-a2d1-d04425ff42f8",
   "metadata": {},
   "source": [
    "7. Escribe una función que reciba una lista como parámetro y compruebe si la lista tiene duplicados. La función devolverá *True* si la lista tiene duplicados y *False* si no los tiene."
   ]
  },
  {
   "cell_type": "code",
   "execution_count": 25,
   "id": "2b36af13-723c-4c12-99de-6439067e6867",
   "metadata": {},
   "outputs": [
    {
     "name": "stdout",
     "output_type": "stream",
     "text": [
      "Lista [1, 2, 3, 4] tiene duplicados? => False\n",
      "Lista [1, 2, 2, 4] tiene duplicados? => True\n"
     ]
    }
   ],
   "source": [
    "# Definicion de la funcion\n",
    "def tiene_duplicados(lista):\n",
    "    return len(lista) != len(set(lista))  # Compara longitud con conjunto sin duplicados\n",
    "\n",
    "# Uso de la funcion\n",
    "lista1 = [1, 2, 3, 4]\n",
    "lista2 = [1, 2, 2, 4]\n",
    "\n",
    "print(f\"Lista {lista1} tiene duplicados? =>\", tiene_duplicados(lista1))  # False\n",
    "print(f\"Lista {lista2} tiene duplicados? =>\", tiene_duplicados(lista2))  # True"
   ]
  },
  {
   "cell_type": "markdown",
   "id": "bd2e0642-bbe1-412f-96ac-df431d17db41",
   "metadata": {},
   "source": [
    "8. Escribe una función *lambda* que, al igual que la función desarrollada en el ejercicio anterior, reciba una lista como parámetro y compruebe si la lista tiene duplicados. La función devolverá *True* si la lista tiene duplicados y *False* si no los tiene."
   ]
  },
  {
   "cell_type": "code",
   "execution_count": 26,
   "id": "6ee46854-d7ed-43f4-87a4-03bb1d0176f0",
   "metadata": {},
   "outputs": [
    {
     "name": "stdout",
     "output_type": "stream",
     "text": [
      "Lambda: Lista [1, 2, 3, 4] tiene duplicados? => False\n",
      "Lambda: Lista [1, 2, 2, 4] tiene duplicados? => True\n"
     ]
    }
   ],
   "source": [
    "# Definir la lambda para detectar duplicados\n",
    "tiene_duplicados_lambda = lambda lst: len(lst) != len(set(lst))\n",
    "\n",
    "# Listas para probar\n",
    "lista1 = [1, 2, 3, 4]\n",
    "lista2 = [1, 2, 2, 4]\n",
    "\n",
    "# Usar la lambda\n",
    "print(f\"Lambda: Lista {lista1} tiene duplicados? =>\", tiene_duplicados_lambda(lista1))  # False\n",
    "print(f\"Lambda: Lista {lista2} tiene duplicados? =>\", tiene_duplicados_lambda(lista2))  # True"
   ]
  },
  {
   "cell_type": "markdown",
   "id": "5c734819-fd59-4249-b08b-2411e56b101c",
   "metadata": {},
   "source": [
    "9. Escribe una función que compruebe si un string dado es un palíndromo. Un palíndromo es una secuencia de caracteres que se lee igual de izquierda a derecha que de derecha a izquierda. Por ejemplo, la función devolverá *True* si recibe el string \"reconocer\" y *False* si recibe el string \"python\"."
   ]
  },
  {
   "cell_type": "code",
   "execution_count": 27,
   "id": "b4360bcb-cd96-40dd-a434-7f03e3142147",
   "metadata": {},
   "outputs": [
    {
     "name": "stdout",
     "output_type": "stream",
     "text": [
      "'Reconocer' es palindromo? => True\n",
      "'Python' es palindromo? => False\n"
     ]
    }
   ],
   "source": [
    "# Definir la funcion para verificar palindromo\n",
    "def es_palindromo(cadena):\n",
    "    cadena = cadena.lower()\n",
    "    return cadena == cadena[::-1]\n",
    "\n",
    "palabra1 = \"Reconocer\"\n",
    "palabra2 = \"Python\"\n",
    "\n",
    "print(f\"'{palabra1}' es palindromo? =>\", es_palindromo(palabra1))  # True\n",
    "print(f\"'{palabra2}' es palindromo? =>\", es_palindromo(palabra2))  # False"
   ]
  },
  {
   "cell_type": "markdown",
   "id": "947f9f1a-f571-41ec-80e9-819ed5dcdada",
   "metadata": {},
   "source": [
    "## REPO GIT :\n",
    "\n",
    "https://github.com/maicol10borja/Repaso.git\n"
   ]
  },
  {
   "cell_type": "code",
   "execution_count": null,
   "id": "cc9dbd2c-5427-4517-8089-57e60ce83e8e",
   "metadata": {},
   "outputs": [],
   "source": []
  }
 ],
 "metadata": {
  "kernelspec": {
   "display_name": "Python 3 (ipykernel)",
   "language": "python",
   "name": "python3"
  },
  "language_info": {
   "codemirror_mode": {
    "name": "ipython",
    "version": 3
   },
   "file_extension": ".py",
   "mimetype": "text/x-python",
   "name": "python",
   "nbconvert_exporter": "python",
   "pygments_lexer": "ipython3",
   "version": "3.13.5"
  }
 },
 "nbformat": 4,
 "nbformat_minor": 5
}
